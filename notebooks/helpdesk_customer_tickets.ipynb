{
 "cells": [
  {
   "cell_type": "code",
   "execution_count": 114,
   "metadata": {},
   "outputs": [],
   "source": [
    "import numpy as np\n",
    "import pandas as pd\n",
    "from sklearn.model_selection import train_test_split\n",
    "import lightgbm as lgb\n",
    "\n",
    "\n",
    "from path_setup import setup_paths\n",
    "setup_paths()"
   ]
  },
  {
   "cell_type": "code",
   "execution_count": 115,
   "metadata": {},
   "outputs": [],
   "source": [
    "from dataset_transformer import BaseDatasetTransform\n",
    "from base_model_train import BaseModelTrain\n",
    "from model_evaluator import ModelEvaluator"
   ]
  },
  {
   "cell_type": "code",
   "execution_count": 116,
   "metadata": {},
   "outputs": [],
   "source": [
    "df = pd.read_csv('../datasets/helpdesk_customer_tickets.csv')"
   ]
  },
  {
   "cell_type": "code",
   "execution_count": 117,
   "metadata": {},
   "outputs": [
    {
     "data": {
      "text/html": [
       "<div>\n",
       "<style scoped>\n",
       "    .dataframe tbody tr th:only-of-type {\n",
       "        vertical-align: middle;\n",
       "    }\n",
       "\n",
       "    .dataframe tbody tr th {\n",
       "        vertical-align: top;\n",
       "    }\n",
       "\n",
       "    .dataframe thead th {\n",
       "        text-align: right;\n",
       "    }\n",
       "</style>\n",
       "<table border=\"1\" class=\"dataframe\">\n",
       "  <thead>\n",
       "    <tr style=\"text-align: right;\">\n",
       "      <th></th>\n",
       "      <th>subject</th>\n",
       "      <th>body</th>\n",
       "      <th>type</th>\n",
       "      <th>queue</th>\n",
       "      <th>language</th>\n",
       "      <th>business_type</th>\n",
       "      <th>tag_1</th>\n",
       "      <th>tag_2</th>\n",
       "      <th>tag_3</th>\n",
       "      <th>tag_4</th>\n",
       "    </tr>\n",
       "  </thead>\n",
       "  <tbody>\n",
       "    <tr>\n",
       "      <th>0</th>\n",
       "      <td>Anfrage zu den Spezifikationen und Anpassungso...</td>\n",
       "      <td>Sehr geehrtes Support-Team des Tech Online Sto...</td>\n",
       "      <td>Request</td>\n",
       "      <td>Customer Service</td>\n",
       "      <td>de</td>\n",
       "      <td>Tech Online Store</td>\n",
       "      <td>Product Support</td>\n",
       "      <td>Sales Inquiry</td>\n",
       "      <td>Technical Guidance</td>\n",
       "      <td>General Inquiry</td>\n",
       "    </tr>\n",
       "    <tr>\n",
       "      <th>1</th>\n",
       "      <td>Déconnexions fréquentes et plantages</td>\n",
       "      <td>Le client signale des déconnexions fréquentes ...</td>\n",
       "      <td>Incident</td>\n",
       "      <td>Product Support</td>\n",
       "      <td>fr</td>\n",
       "      <td>Software Development Company</td>\n",
       "      <td>Technical Support</td>\n",
       "      <td>Software Bug</td>\n",
       "      <td>Service Disruption</td>\n",
       "      <td>System Crash</td>\n",
       "    </tr>\n",
       "    <tr>\n",
       "      <th>2</th>\n",
       "      <td>Problema de sonido Dell XPS</td>\n",
       "      <td>Problema con el sonido, manejando como devoluc...</td>\n",
       "      <td>Problem</td>\n",
       "      <td>Returns and Exchanges</td>\n",
       "      <td>es</td>\n",
       "      <td>Tech Online Store</td>\n",
       "      <td>Returns and Exchanges</td>\n",
       "      <td>Product Support</td>\n",
       "      <td>Customer Service</td>\n",
       "      <td>Refund Request</td>\n",
       "    </tr>\n",
       "    <tr>\n",
       "      <th>3</th>\n",
       "      <td>Assistance requise pour la configuration du ta...</td>\n",
       "      <td>Cher support client,\\n\\nNotre client, &lt;name&gt;, ...</td>\n",
       "      <td>Request</td>\n",
       "      <td>Product Support</td>\n",
       "      <td>fr</td>\n",
       "      <td>Software Development Company</td>\n",
       "      <td>Technical Support</td>\n",
       "      <td>Product Support</td>\n",
       "      <td>General Inquiry</td>\n",
       "      <td>Problem Resolution</td>\n",
       "    </tr>\n",
       "    <tr>\n",
       "      <th>4</th>\n",
       "      <td>Urgente: Assistência Imediata Necessária para ...</td>\n",
       "      <td>Caro Suporte ao Cliente da Firma de Consultori...</td>\n",
       "      <td>Incident</td>\n",
       "      <td>Human Resources</td>\n",
       "      <td>pt</td>\n",
       "      <td>IT Consulting Firm</td>\n",
       "      <td>Urgent Issue</td>\n",
       "      <td>Payroll Issue</td>\n",
       "      <td>Technical Support</td>\n",
       "      <td>Service Disruption</td>\n",
       "    </tr>\n",
       "  </tbody>\n",
       "</table>\n",
       "</div>"
      ],
      "text/plain": [
       "                                             subject  \\\n",
       "0  Anfrage zu den Spezifikationen und Anpassungso...   \n",
       "1               Déconnexions fréquentes et plantages   \n",
       "2                        Problema de sonido Dell XPS   \n",
       "3  Assistance requise pour la configuration du ta...   \n",
       "4  Urgente: Assistência Imediata Necessária para ...   \n",
       "\n",
       "                                                body      type  \\\n",
       "0  Sehr geehrtes Support-Team des Tech Online Sto...   Request   \n",
       "1  Le client signale des déconnexions fréquentes ...  Incident   \n",
       "2  Problema con el sonido, manejando como devoluc...   Problem   \n",
       "3  Cher support client,\\n\\nNotre client, <name>, ...   Request   \n",
       "4  Caro Suporte ao Cliente da Firma de Consultori...  Incident   \n",
       "\n",
       "                   queue language                 business_type  \\\n",
       "0       Customer Service       de             Tech Online Store   \n",
       "1        Product Support       fr  Software Development Company   \n",
       "2  Returns and Exchanges       es             Tech Online Store   \n",
       "3        Product Support       fr  Software Development Company   \n",
       "4        Human Resources       pt            IT Consulting Firm   \n",
       "\n",
       "                   tag_1            tag_2               tag_3  \\\n",
       "0        Product Support    Sales Inquiry  Technical Guidance   \n",
       "1      Technical Support     Software Bug  Service Disruption   \n",
       "2  Returns and Exchanges  Product Support    Customer Service   \n",
       "3      Technical Support  Product Support     General Inquiry   \n",
       "4           Urgent Issue    Payroll Issue   Technical Support   \n",
       "\n",
       "                tag_4  \n",
       "0     General Inquiry  \n",
       "1        System Crash  \n",
       "2      Refund Request  \n",
       "3  Problem Resolution  \n",
       "4  Service Disruption  "
      ]
     },
     "execution_count": 117,
     "metadata": {},
     "output_type": "execute_result"
    }
   ],
   "source": [
    "df = df.drop(['id','answer','priority','tag_5','tag_6','tag_7','tag_8','tag_9'],axis=1)\n",
    "df.head()"
   ]
  },
  {
   "cell_type": "code",
   "execution_count": 118,
   "metadata": {},
   "outputs": [
    {
     "name": "stderr",
     "output_type": "stream",
     "text": [
      "c:\\Users\\Dmitriy.Burnashev\\AppData\\Local\\anaconda3\\Lib\\site-packages\\transformers\\tokenization_utils_base.py:1601: FutureWarning: `clean_up_tokenization_spaces` was not set. It will be set to `True` by default. This behavior will be depracted in transformers v4.45, and will be then set to `False` by default. For more details check this issue: https://github.com/huggingface/transformers/issues/31884\n",
      "  warnings.warn(\n"
     ]
    }
   ],
   "source": [
    "from transformers import DistilBertTokenizer, DistilBertModel\n",
    "import torch\n",
    "import pandas as pd\n",
    "\n",
    "from transformers import BertTokenizer, BertModel\n",
    "\n",
    "model_name = \"bert-base-multilingual-cased\"\n",
    "tokenizer = BertTokenizer.from_pretrained(model_name)\n",
    "model = BertModel.from_pretrained(model_name)"
   ]
  },
  {
   "cell_type": "code",
   "execution_count": 119,
   "metadata": {},
   "outputs": [],
   "source": [
    "from tqdm import tqdm\n",
    "\n",
    "def get_embeddings(texts, batch_size):\n",
    "    embeddings_list = []\n",
    "    model.eval()  \n",
    "    for i in tqdm(range(0, len(texts), batch_size), desc=\"Processing batches\"):\n",
    "        batch_texts = texts[i:i+batch_size]\n",
    "        inputs = tokenizer(batch_texts, padding=True, truncation=True, return_tensors=\"pt\")\n",
    "        \n",
    "        inputs = {key: value.to(model.device) for key, value in inputs.items()}\n",
    "        \n",
    "        with torch.no_grad():\n",
    "            outputs = model(**inputs)\n",
    "\n",
    "            batch_embeddings = outputs.last_hidden_state.mean(dim=1)\n",
    "            embeddings_list.extend(batch_embeddings.cpu().numpy().tolist())\n",
    "    \n",
    "    return embeddings_list\n",
    "\n"
   ]
  },
  {
   "cell_type": "code",
   "execution_count": 120,
   "metadata": {},
   "outputs": [
    {
     "name": "stderr",
     "output_type": "stream",
     "text": [
      "Processing batches:   0%|          | 0/19 [00:00<?, ?it/s]"
     ]
    },
    {
     "name": "stderr",
     "output_type": "stream",
     "text": [
      "Processing batches: 100%|██████████| 19/19 [01:39<00:00,  5.24s/it]\n"
     ]
    }
   ],
   "source": [
    "descriptions_body = df['body'].tolist()\n",
    "embeddings_body = get_embeddings(descriptions_body, 32)"
   ]
  },
  {
   "cell_type": "code",
   "execution_count": 121,
   "metadata": {},
   "outputs": [
    {
     "name": "stderr",
     "output_type": "stream",
     "text": [
      "Processing batches: 100%|██████████| 19/19 [00:22<00:00,  1.20s/it]\n"
     ]
    }
   ],
   "source": [
    "descriptions_subject = df['subject'].fillna('').tolist()\n",
    "embeddings_subject = get_embeddings(descriptions_subject, 32)"
   ]
  },
  {
   "cell_type": "code",
   "execution_count": 122,
   "metadata": {},
   "outputs": [
    {
     "data": {
      "text/plain": [
       "(600, 768)"
      ]
     },
     "execution_count": 122,
     "metadata": {},
     "output_type": "execute_result"
    }
   ],
   "source": [
    "np.array(embeddings_body).shape"
   ]
  },
  {
   "cell_type": "code",
   "execution_count": 123,
   "metadata": {},
   "outputs": [
    {
     "data": {
      "text/html": [
       "<div>\n",
       "<style scoped>\n",
       "    .dataframe tbody tr th:only-of-type {\n",
       "        vertical-align: middle;\n",
       "    }\n",
       "\n",
       "    .dataframe tbody tr th {\n",
       "        vertical-align: top;\n",
       "    }\n",
       "\n",
       "    .dataframe thead th {\n",
       "        text-align: right;\n",
       "    }\n",
       "</style>\n",
       "<table border=\"1\" class=\"dataframe\">\n",
       "  <thead>\n",
       "    <tr style=\"text-align: right;\">\n",
       "      <th></th>\n",
       "      <th>subject</th>\n",
       "      <th>body</th>\n",
       "      <th>type</th>\n",
       "      <th>queue</th>\n",
       "      <th>language</th>\n",
       "      <th>business_type</th>\n",
       "      <th>tag_1</th>\n",
       "      <th>tag_2</th>\n",
       "      <th>tag_3</th>\n",
       "      <th>tag_4</th>\n",
       "      <th>...</th>\n",
       "      <th>759_subject</th>\n",
       "      <th>760_subject</th>\n",
       "      <th>761_subject</th>\n",
       "      <th>762_subject</th>\n",
       "      <th>763_subject</th>\n",
       "      <th>764_subject</th>\n",
       "      <th>765_subject</th>\n",
       "      <th>766_subject</th>\n",
       "      <th>767_subject</th>\n",
       "      <th>768_subject</th>\n",
       "    </tr>\n",
       "  </thead>\n",
       "  <tbody>\n",
       "    <tr>\n",
       "      <th>0</th>\n",
       "      <td>Anfrage zu den Spezifikationen und Anpassungso...</td>\n",
       "      <td>Sehr geehrtes Support-Team des Tech Online Sto...</td>\n",
       "      <td>Request</td>\n",
       "      <td>Customer Service</td>\n",
       "      <td>de</td>\n",
       "      <td>Tech Online Store</td>\n",
       "      <td>Product Support</td>\n",
       "      <td>Sales Inquiry</td>\n",
       "      <td>Technical Guidance</td>\n",
       "      <td>General Inquiry</td>\n",
       "      <td>...</td>\n",
       "      <td>-0.038035</td>\n",
       "      <td>0.281225</td>\n",
       "      <td>-0.415702</td>\n",
       "      <td>-1.028785</td>\n",
       "      <td>0.114163</td>\n",
       "      <td>0.279624</td>\n",
       "      <td>-0.325105</td>\n",
       "      <td>1.055942</td>\n",
       "      <td>0.672377</td>\n",
       "      <td>-0.182328</td>\n",
       "    </tr>\n",
       "    <tr>\n",
       "      <th>1</th>\n",
       "      <td>Déconnexions fréquentes et plantages</td>\n",
       "      <td>Le client signale des déconnexions fréquentes ...</td>\n",
       "      <td>Incident</td>\n",
       "      <td>Product Support</td>\n",
       "      <td>fr</td>\n",
       "      <td>Software Development Company</td>\n",
       "      <td>Technical Support</td>\n",
       "      <td>Software Bug</td>\n",
       "      <td>Service Disruption</td>\n",
       "      <td>System Crash</td>\n",
       "      <td>...</td>\n",
       "      <td>0.275617</td>\n",
       "      <td>-0.059634</td>\n",
       "      <td>-0.451603</td>\n",
       "      <td>0.134279</td>\n",
       "      <td>-0.077310</td>\n",
       "      <td>0.443718</td>\n",
       "      <td>0.068902</td>\n",
       "      <td>0.072667</td>\n",
       "      <td>0.323374</td>\n",
       "      <td>0.257339</td>\n",
       "    </tr>\n",
       "    <tr>\n",
       "      <th>2</th>\n",
       "      <td>Problema de sonido Dell XPS</td>\n",
       "      <td>Problema con el sonido, manejando como devoluc...</td>\n",
       "      <td>Problem</td>\n",
       "      <td>Returns and Exchanges</td>\n",
       "      <td>es</td>\n",
       "      <td>Tech Online Store</td>\n",
       "      <td>Returns and Exchanges</td>\n",
       "      <td>Product Support</td>\n",
       "      <td>Customer Service</td>\n",
       "      <td>Refund Request</td>\n",
       "      <td>...</td>\n",
       "      <td>0.535669</td>\n",
       "      <td>0.026694</td>\n",
       "      <td>-0.129374</td>\n",
       "      <td>-0.520028</td>\n",
       "      <td>0.067733</td>\n",
       "      <td>0.278351</td>\n",
       "      <td>-0.092054</td>\n",
       "      <td>0.325286</td>\n",
       "      <td>0.016915</td>\n",
       "      <td>-0.101192</td>\n",
       "    </tr>\n",
       "    <tr>\n",
       "      <th>3</th>\n",
       "      <td>Assistance requise pour la configuration du ta...</td>\n",
       "      <td>Cher support client,\\n\\nNotre client, &lt;name&gt;, ...</td>\n",
       "      <td>Request</td>\n",
       "      <td>Product Support</td>\n",
       "      <td>fr</td>\n",
       "      <td>Software Development Company</td>\n",
       "      <td>Technical Support</td>\n",
       "      <td>Product Support</td>\n",
       "      <td>General Inquiry</td>\n",
       "      <td>Problem Resolution</td>\n",
       "      <td>...</td>\n",
       "      <td>0.299054</td>\n",
       "      <td>-0.104939</td>\n",
       "      <td>-0.470850</td>\n",
       "      <td>-0.384595</td>\n",
       "      <td>0.215907</td>\n",
       "      <td>0.552640</td>\n",
       "      <td>0.281748</td>\n",
       "      <td>0.457512</td>\n",
       "      <td>0.292831</td>\n",
       "      <td>-0.146960</td>\n",
       "    </tr>\n",
       "    <tr>\n",
       "      <th>4</th>\n",
       "      <td>Urgente: Assistência Imediata Necessária para ...</td>\n",
       "      <td>Caro Suporte ao Cliente da Firma de Consultori...</td>\n",
       "      <td>Incident</td>\n",
       "      <td>Human Resources</td>\n",
       "      <td>pt</td>\n",
       "      <td>IT Consulting Firm</td>\n",
       "      <td>Urgent Issue</td>\n",
       "      <td>Payroll Issue</td>\n",
       "      <td>Technical Support</td>\n",
       "      <td>Service Disruption</td>\n",
       "      <td>...</td>\n",
       "      <td>0.278346</td>\n",
       "      <td>-0.213875</td>\n",
       "      <td>-0.330915</td>\n",
       "      <td>-0.925604</td>\n",
       "      <td>0.331910</td>\n",
       "      <td>0.336009</td>\n",
       "      <td>0.005618</td>\n",
       "      <td>-0.089741</td>\n",
       "      <td>0.257151</td>\n",
       "      <td>-0.071302</td>\n",
       "    </tr>\n",
       "  </tbody>\n",
       "</table>\n",
       "<p>5 rows × 1546 columns</p>\n",
       "</div>"
      ],
      "text/plain": [
       "                                             subject  \\\n",
       "0  Anfrage zu den Spezifikationen und Anpassungso...   \n",
       "1               Déconnexions fréquentes et plantages   \n",
       "2                        Problema de sonido Dell XPS   \n",
       "3  Assistance requise pour la configuration du ta...   \n",
       "4  Urgente: Assistência Imediata Necessária para ...   \n",
       "\n",
       "                                                body      type  \\\n",
       "0  Sehr geehrtes Support-Team des Tech Online Sto...   Request   \n",
       "1  Le client signale des déconnexions fréquentes ...  Incident   \n",
       "2  Problema con el sonido, manejando como devoluc...   Problem   \n",
       "3  Cher support client,\\n\\nNotre client, <name>, ...   Request   \n",
       "4  Caro Suporte ao Cliente da Firma de Consultori...  Incident   \n",
       "\n",
       "                   queue language                 business_type  \\\n",
       "0       Customer Service       de             Tech Online Store   \n",
       "1        Product Support       fr  Software Development Company   \n",
       "2  Returns and Exchanges       es             Tech Online Store   \n",
       "3        Product Support       fr  Software Development Company   \n",
       "4        Human Resources       pt            IT Consulting Firm   \n",
       "\n",
       "                   tag_1            tag_2               tag_3  \\\n",
       "0        Product Support    Sales Inquiry  Technical Guidance   \n",
       "1      Technical Support     Software Bug  Service Disruption   \n",
       "2  Returns and Exchanges  Product Support    Customer Service   \n",
       "3      Technical Support  Product Support     General Inquiry   \n",
       "4           Urgent Issue    Payroll Issue   Technical Support   \n",
       "\n",
       "                tag_4  ...  759_subject  760_subject  761_subject  \\\n",
       "0     General Inquiry  ...    -0.038035     0.281225    -0.415702   \n",
       "1        System Crash  ...     0.275617    -0.059634    -0.451603   \n",
       "2      Refund Request  ...     0.535669     0.026694    -0.129374   \n",
       "3  Problem Resolution  ...     0.299054    -0.104939    -0.470850   \n",
       "4  Service Disruption  ...     0.278346    -0.213875    -0.330915   \n",
       "\n",
       "   762_subject  763_subject  764_subject  765_subject  766_subject  \\\n",
       "0    -1.028785     0.114163     0.279624    -0.325105     1.055942   \n",
       "1     0.134279    -0.077310     0.443718     0.068902     0.072667   \n",
       "2    -0.520028     0.067733     0.278351    -0.092054     0.325286   \n",
       "3    -0.384595     0.215907     0.552640     0.281748     0.457512   \n",
       "4    -0.925604     0.331910     0.336009     0.005618    -0.089741   \n",
       "\n",
       "   767_subject  768_subject  \n",
       "0     0.672377    -0.182328  \n",
       "1     0.323374     0.257339  \n",
       "2     0.016915    -0.101192  \n",
       "3     0.292831    -0.146960  \n",
       "4     0.257151    -0.071302  \n",
       "\n",
       "[5 rows x 1546 columns]"
      ]
     },
     "execution_count": 123,
     "metadata": {},
     "output_type": "execute_result"
    }
   ],
   "source": [
    "col = [f'{i+1}_body' for i in range(len(embeddings_body[0]))]\n",
    "\n",
    "df_body = pd.DataFrame(embeddings_subject, columns=col)\n",
    "\n",
    "df = pd.concat([df, df_body], axis=1)\n",
    "\n",
    "\n",
    "col = [f'{i+1}_subject' for i in range(len(embeddings_body[0]))]\n",
    "\n",
    "df_subject = pd.DataFrame(embeddings_subject, columns=col)\n",
    "\n",
    "df = pd.concat([df, df_subject], axis=1)\n",
    "df.head()"
   ]
  },
  {
   "cell_type": "code",
   "execution_count": 124,
   "metadata": {},
   "outputs": [],
   "source": [
    "df = df.drop(['subject'\t,'body'],axis=1)"
   ]
  },
  {
   "cell_type": "code",
   "execution_count": 125,
   "metadata": {},
   "outputs": [],
   "source": [
    "bdf = BaseDatasetTransform(df,target='queue')"
   ]
  },
  {
   "cell_type": "code",
   "execution_count": 126,
   "metadata": {},
   "outputs": [
    {
     "name": "stdout",
     "output_type": "stream",
     "text": [
      "Series([], dtype: int64)\n",
      "\n",
      "В колонке(ах) ['queue'] нет пропущенных значений\n",
      "-------------------------------------------\n",
      "В наборе данных нет пропущенных значений\n",
      "-------------------------------------------\n",
      "Информация о колонках в датасете\n",
      "\n",
      "Категориальные колонки:\n",
      "Index(['type', 'language', 'business_type', 'tag_1', 'tag_2', 'tag_3',\n",
      "       'tag_4'],\n",
      "      dtype='object')\n",
      "\n",
      "Числовые колонки:\n",
      "Index(['1_body', '2_body', '3_body', '4_body', '5_body', '6_body', '7_body',\n",
      "       '8_body', '9_body', '10_body',\n",
      "       ...\n",
      "       '759_subject', '760_subject', '761_subject', '762_subject',\n",
      "       '763_subject', '764_subject', '765_subject', '766_subject',\n",
      "       '767_subject', '768_subject'],\n",
      "      dtype='object', length=1536)\n"
     ]
    }
   ],
   "source": [
    "df,categorical_features = bdf.fit_transform()"
   ]
  },
  {
   "cell_type": "code",
   "execution_count": 127,
   "metadata": {},
   "outputs": [
    {
     "name": "stdout",
     "output_type": "stream",
     "text": [
      "Количество значений целевой переменной по категориям:\n",
      "queue\n",
      "Technical Support                  210\n",
      "Product Support                     93\n",
      "Customer Service                    85\n",
      "IT Support                          77\n",
      "Billing and Payments                46\n",
      "Returns and Exchanges               41\n",
      "Human Resources                     15\n",
      "Service Outages and Maintenance     15\n",
      "Sales and Pre-Sales                 13\n",
      "General Inquiry                      5\n",
      "Name: count, dtype: int64\n",
      "Следует ли выполнить стратифицированное раздеение на обучающую и тестовую выборку? y/n\n",
      "Разделение датасета выполнено успешно\n"
     ]
    }
   ],
   "source": [
    "X_train, X_test, y_train, y_test  = bdf.get_train_test_split()"
   ]
  },
  {
   "cell_type": "code",
   "execution_count": 128,
   "metadata": {},
   "outputs": [
    {
     "name": "stdout",
     "output_type": "stream",
     "text": [
      "10\n"
     ]
    }
   ],
   "source": [
    "lgbm_model = lgb.LGBMClassifier(verbose=-1)\n",
    "\n",
    "columns_to_delete = []  \n",
    "\n",
    "unique_classes = len(set(y_train))\n",
    "print(unique_classes)\n",
    "\n",
    "model_train = BaseModelTrain(\n",
    "    model=lgbm_model,\n",
    "    columns_to_delete=columns_to_delete,\n",
    "    categorical_features=categorical_features,\n",
    "    boosting_type='gbdt',\n",
    "    objective='multiclass',  \n",
    "    num_class=unique_classes, \n",
    "    metric='multi_error' \n",
    ")"
   ]
  },
  {
   "cell_type": "code",
   "execution_count": 129,
   "metadata": {},
   "outputs": [
    {
     "data": {
      "text/html": [
       "<style>#sk-container-id-10 {color: black;}#sk-container-id-10 pre{padding: 0;}#sk-container-id-10 div.sk-toggleable {background-color: white;}#sk-container-id-10 label.sk-toggleable__label {cursor: pointer;display: block;width: 100%;margin-bottom: 0;padding: 0.3em;box-sizing: border-box;text-align: center;}#sk-container-id-10 label.sk-toggleable__label-arrow:before {content: \"▸\";float: left;margin-right: 0.25em;color: #696969;}#sk-container-id-10 label.sk-toggleable__label-arrow:hover:before {color: black;}#sk-container-id-10 div.sk-estimator:hover label.sk-toggleable__label-arrow:before {color: black;}#sk-container-id-10 div.sk-toggleable__content {max-height: 0;max-width: 0;overflow: hidden;text-align: left;background-color: #f0f8ff;}#sk-container-id-10 div.sk-toggleable__content pre {margin: 0.2em;color: black;border-radius: 0.25em;background-color: #f0f8ff;}#sk-container-id-10 input.sk-toggleable__control:checked~div.sk-toggleable__content {max-height: 200px;max-width: 100%;overflow: auto;}#sk-container-id-10 input.sk-toggleable__control:checked~label.sk-toggleable__label-arrow:before {content: \"▾\";}#sk-container-id-10 div.sk-estimator input.sk-toggleable__control:checked~label.sk-toggleable__label {background-color: #d4ebff;}#sk-container-id-10 div.sk-label input.sk-toggleable__control:checked~label.sk-toggleable__label {background-color: #d4ebff;}#sk-container-id-10 input.sk-hidden--visually {border: 0;clip: rect(1px 1px 1px 1px);clip: rect(1px, 1px, 1px, 1px);height: 1px;margin: -1px;overflow: hidden;padding: 0;position: absolute;width: 1px;}#sk-container-id-10 div.sk-estimator {font-family: monospace;background-color: #f0f8ff;border: 1px dotted black;border-radius: 0.25em;box-sizing: border-box;margin-bottom: 0.5em;}#sk-container-id-10 div.sk-estimator:hover {background-color: #d4ebff;}#sk-container-id-10 div.sk-parallel-item::after {content: \"\";width: 100%;border-bottom: 1px solid gray;flex-grow: 1;}#sk-container-id-10 div.sk-label:hover label.sk-toggleable__label {background-color: #d4ebff;}#sk-container-id-10 div.sk-serial::before {content: \"\";position: absolute;border-left: 1px solid gray;box-sizing: border-box;top: 0;bottom: 0;left: 50%;z-index: 0;}#sk-container-id-10 div.sk-serial {display: flex;flex-direction: column;align-items: center;background-color: white;padding-right: 0.2em;padding-left: 0.2em;position: relative;}#sk-container-id-10 div.sk-item {position: relative;z-index: 1;}#sk-container-id-10 div.sk-parallel {display: flex;align-items: stretch;justify-content: center;background-color: white;position: relative;}#sk-container-id-10 div.sk-item::before, #sk-container-id-10 div.sk-parallel-item::before {content: \"\";position: absolute;border-left: 1px solid gray;box-sizing: border-box;top: 0;bottom: 0;left: 50%;z-index: -1;}#sk-container-id-10 div.sk-parallel-item {display: flex;flex-direction: column;z-index: 1;position: relative;background-color: white;}#sk-container-id-10 div.sk-parallel-item:first-child::after {align-self: flex-end;width: 50%;}#sk-container-id-10 div.sk-parallel-item:last-child::after {align-self: flex-start;width: 50%;}#sk-container-id-10 div.sk-parallel-item:only-child::after {width: 0;}#sk-container-id-10 div.sk-dashed-wrapped {border: 1px dashed gray;margin: 0 0.4em 0.5em 0.4em;box-sizing: border-box;padding-bottom: 0.4em;background-color: white;}#sk-container-id-10 div.sk-label label {font-family: monospace;font-weight: bold;display: inline-block;line-height: 1.2em;}#sk-container-id-10 div.sk-label-container {text-align: center;}#sk-container-id-10 div.sk-container {/* jupyter's `normalize.less` sets `[hidden] { display: none; }` but bootstrap.min.css set `[hidden] { display: none !important; }` so we also need the `!important` here to be able to override the default hidden behavior on the sphinx rendered scikit-learn.org. See: https://github.com/scikit-learn/scikit-learn/issues/21755 */display: inline-block !important;position: relative;}#sk-container-id-10 div.sk-text-repr-fallback {display: none;}</style><div id=\"sk-container-id-10\" class=\"sk-top-container\"><div class=\"sk-text-repr-fallback\"><pre>ModelEvaluator(metrics=[&#x27;accuracy&#x27;, &#x27;precision&#x27;, &#x27;recall&#x27;, &#x27;f1_macro&#x27;],\n",
       "               model_trainer=BaseModelTrain(categorical_features=[&#x27;type&#x27;,\n",
       "                                                                  &#x27;language&#x27;,\n",
       "                                                                  &#x27;business_type&#x27;,\n",
       "                                                                  &#x27;tag_1&#x27;,\n",
       "                                                                  &#x27;tag_2&#x27;,\n",
       "                                                                  &#x27;tag_3&#x27;,\n",
       "                                                                  &#x27;tag_4&#x27;],\n",
       "                                            columns_to_delete=[],\n",
       "                                            model=LGBMClassifier(metric=&#x27;multi_error&#x27;,\n",
       "                                                                 num_class=10,\n",
       "                                                                 objective=&#x27;multiclass&#x27;,\n",
       "                                                                 verbose=-1)))</pre><b>In a Jupyter environment, please rerun this cell to show the HTML representation or trust the notebook. <br />On GitHub, the HTML representation is unable to render, please try loading this page with nbviewer.org.</b></div><div class=\"sk-container\" hidden><div class=\"sk-item sk-dashed-wrapped\"><div class=\"sk-label-container\"><div class=\"sk-label sk-toggleable\"><input class=\"sk-toggleable__control sk-hidden--visually\" id=\"sk-estimator-id-37\" type=\"checkbox\" ><label for=\"sk-estimator-id-37\" class=\"sk-toggleable__label sk-toggleable__label-arrow\">ModelEvaluator</label><div class=\"sk-toggleable__content\"><pre>ModelEvaluator(metrics=[&#x27;accuracy&#x27;, &#x27;precision&#x27;, &#x27;recall&#x27;, &#x27;f1_macro&#x27;],\n",
       "               model_trainer=BaseModelTrain(categorical_features=[&#x27;type&#x27;,\n",
       "                                                                  &#x27;language&#x27;,\n",
       "                                                                  &#x27;business_type&#x27;,\n",
       "                                                                  &#x27;tag_1&#x27;,\n",
       "                                                                  &#x27;tag_2&#x27;,\n",
       "                                                                  &#x27;tag_3&#x27;,\n",
       "                                                                  &#x27;tag_4&#x27;],\n",
       "                                            columns_to_delete=[],\n",
       "                                            model=LGBMClassifier(metric=&#x27;multi_error&#x27;,\n",
       "                                                                 num_class=10,\n",
       "                                                                 objective=&#x27;multiclass&#x27;,\n",
       "                                                                 verbose=-1)))</pre></div></div></div><div class=\"sk-parallel\"><div class=\"sk-parallel-item\"><div class=\"sk-item\"><div class=\"sk-label-container\"><div class=\"sk-label sk-toggleable\"><input class=\"sk-toggleable__control sk-hidden--visually\" id=\"sk-estimator-id-38\" type=\"checkbox\" ><label for=\"sk-estimator-id-38\" class=\"sk-toggleable__label sk-toggleable__label-arrow\">model_trainer: BaseModelTrain</label><div class=\"sk-toggleable__content\"><pre>BaseModelTrain(categorical_features=[&#x27;type&#x27;, &#x27;language&#x27;, &#x27;business_type&#x27;,\n",
       "                                     &#x27;tag_1&#x27;, &#x27;tag_2&#x27;, &#x27;tag_3&#x27;, &#x27;tag_4&#x27;],\n",
       "               columns_to_delete=[],\n",
       "               model=LGBMClassifier(metric=&#x27;multi_error&#x27;, num_class=10,\n",
       "                                    objective=&#x27;multiclass&#x27;, verbose=-1))</pre></div></div></div><div class=\"sk-serial\"><div class=\"sk-item sk-dashed-wrapped\"><div class=\"sk-parallel\"><div class=\"sk-parallel-item\"><div class=\"sk-item\"><div class=\"sk-label-container\"><div class=\"sk-label sk-toggleable\"><input class=\"sk-toggleable__control sk-hidden--visually\" id=\"sk-estimator-id-39\" type=\"checkbox\" ><label for=\"sk-estimator-id-39\" class=\"sk-toggleable__label sk-toggleable__label-arrow\">model: LGBMClassifier</label><div class=\"sk-toggleable__content\"><pre>LGBMClassifier(metric=&#x27;multi_error&#x27;, num_class=10, objective=&#x27;multiclass&#x27;,\n",
       "               verbose=-1)</pre></div></div></div><div class=\"sk-serial\"><div class=\"sk-item\"><div class=\"sk-estimator sk-toggleable\"><input class=\"sk-toggleable__control sk-hidden--visually\" id=\"sk-estimator-id-40\" type=\"checkbox\" ><label for=\"sk-estimator-id-40\" class=\"sk-toggleable__label sk-toggleable__label-arrow\">LGBMClassifier</label><div class=\"sk-toggleable__content\"><pre>LGBMClassifier(metric=&#x27;multi_error&#x27;, num_class=10, objective=&#x27;multiclass&#x27;,\n",
       "               verbose=-1)</pre></div></div></div></div></div></div></div></div></div></div></div></div></div></div></div>"
      ],
      "text/plain": [
       "ModelEvaluator(metrics=['accuracy', 'precision', 'recall', 'f1_macro'],\n",
       "               model_trainer=BaseModelTrain(categorical_features=['type',\n",
       "                                                                  'language',\n",
       "                                                                  'business_type',\n",
       "                                                                  'tag_1',\n",
       "                                                                  'tag_2',\n",
       "                                                                  'tag_3',\n",
       "                                                                  'tag_4'],\n",
       "                                            columns_to_delete=[],\n",
       "                                            model=LGBMClassifier(metric='multi_error',\n",
       "                                                                 num_class=10,\n",
       "                                                                 objective='multiclass',\n",
       "                                                                 verbose=-1)))"
      ]
     },
     "execution_count": 129,
     "metadata": {},
     "output_type": "execute_result"
    }
   ],
   "source": [
    "metrics = ['accuracy', 'precision', 'recall', 'f1_macro']\n",
    "evaluator = ModelEvaluator(model_trainer=model_train, metrics=metrics)\n",
    "\n",
    "evaluator.fit(X_train, y_train)"
   ]
  },
  {
   "cell_type": "code",
   "execution_count": 130,
   "metadata": {},
   "outputs": [
    {
     "data": {
      "text/html": [
       "<div>\n",
       "<style scoped>\n",
       "    .dataframe tbody tr th:only-of-type {\n",
       "        vertical-align: middle;\n",
       "    }\n",
       "\n",
       "    .dataframe tbody tr th {\n",
       "        vertical-align: top;\n",
       "    }\n",
       "\n",
       "    .dataframe thead th {\n",
       "        text-align: right;\n",
       "    }\n",
       "</style>\n",
       "<table border=\"1\" class=\"dataframe\">\n",
       "  <thead>\n",
       "    <tr style=\"text-align: right;\">\n",
       "      <th></th>\n",
       "      <th>Metric</th>\n",
       "      <th>Score</th>\n",
       "    </tr>\n",
       "  </thead>\n",
       "  <tbody>\n",
       "    <tr>\n",
       "      <th>0</th>\n",
       "      <td>accuracy</td>\n",
       "      <td>0.600000</td>\n",
       "    </tr>\n",
       "    <tr>\n",
       "      <th>1</th>\n",
       "      <td>precision</td>\n",
       "      <td>0.607268</td>\n",
       "    </tr>\n",
       "    <tr>\n",
       "      <th>2</th>\n",
       "      <td>recall</td>\n",
       "      <td>0.463224</td>\n",
       "    </tr>\n",
       "    <tr>\n",
       "      <th>3</th>\n",
       "      <td>f1</td>\n",
       "      <td>0.495618</td>\n",
       "    </tr>\n",
       "  </tbody>\n",
       "</table>\n",
       "</div>"
      ],
      "text/plain": [
       "      Metric     Score\n",
       "0   accuracy  0.600000\n",
       "1  precision  0.607268\n",
       "2     recall  0.463224\n",
       "3         f1  0.495618"
      ]
     },
     "execution_count": 130,
     "metadata": {},
     "output_type": "execute_result"
    }
   ],
   "source": [
    "evaluator.evaluate_to_dataframe(X_test, y_test)"
   ]
  },
  {
   "cell_type": "code",
   "execution_count": null,
   "metadata": {},
   "outputs": [],
   "source": []
  }
 ],
 "metadata": {
  "kernelspec": {
   "display_name": "Python 3 (ipykernel)",
   "language": "python",
   "name": "python3"
  },
  "language_info": {
   "codemirror_mode": {
    "name": "ipython",
    "version": 3
   },
   "file_extension": ".py",
   "mimetype": "text/x-python",
   "name": "python",
   "nbconvert_exporter": "python",
   "pygments_lexer": "ipython3",
   "version": "3.12.4"
  }
 },
 "nbformat": 4,
 "nbformat_minor": 4
}
