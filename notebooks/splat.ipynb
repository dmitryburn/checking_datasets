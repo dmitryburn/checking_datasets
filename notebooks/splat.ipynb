{
 "cells": [
  {
   "cell_type": "code",
   "execution_count": 1,
   "metadata": {},
   "outputs": [],
   "source": [
    "import numpy as np\n",
    "import pandas as pd\n",
    "from sklearn.model_selection import train_test_split\n",
    "import lightgbm as lgb\n",
    "\n",
    "\n",
    "from path_setup import setup_paths\n",
    "setup_paths()"
   ]
  },
  {
   "cell_type": "code",
   "execution_count": 2,
   "metadata": {},
   "outputs": [],
   "source": [
    "from dataset_transformer import BaseDatasetTransform\n",
    "from base_model_train import BaseModelTrain\n",
    "from model_evaluator import ModelEvaluator"
   ]
  },
  {
   "cell_type": "code",
   "execution_count": 3,
   "metadata": {},
   "outputs": [],
   "source": [
    "df = pd.read_excel('../datasets/splat.xlsx')"
   ]
  },
  {
   "cell_type": "code",
   "execution_count": 4,
   "metadata": {},
   "outputs": [],
   "source": [
    "from intelligence_tools import AnalyzeVariables"
   ]
  },
  {
   "cell_type": "code",
   "execution_count": 5,
   "metadata": {},
   "outputs": [
    {
     "name": "stdout",
     "output_type": "stream",
     "text": [
      "<class 'pandas.core.frame.DataFrame'>\n",
      "RangeIndex: 17935 entries, 0 to 17934\n",
      "Data columns (total 17 columns):\n",
      " #   Column            Non-Null Count  Dtype  \n",
      "---  ------            --------------  -----  \n",
      " 0   PrimaryItemID     17588 non-null  float64\n",
      " 1   PrimaryItemCode   17935 non-null  int64  \n",
      " 2   Article           3978 non-null   object \n",
      " 3   PrimaryItemName   17935 non-null  object \n",
      " 4   Поставщик         824 non-null    object \n",
      " 5   Бренд             824 non-null    object \n",
      " 6   ManufacturerName  10280 non-null  object \n",
      " 7   BrandName         8897 non-null   object \n",
      " 8   SubBrandName      6271 non-null   object \n",
      " 9   SegmentName       17490 non-null  object \n",
      " 10  CategoryName      13038 non-null  object \n",
      " 11  SubCategoryName   6659 non-null   object \n",
      " 12  ProductTypeName   0 non-null      float64\n",
      " 13  AgeSegmentName    2084 non-null   object \n",
      " 14  Weight            2412 non-null   float64\n",
      " 15  Volume            3768 non-null   float64\n",
      " 16  Quantity          3799 non-null   float64\n",
      "dtypes: float64(5), int64(1), object(11)\n",
      "memory usage: 2.3+ MB\n"
     ]
    }
   ],
   "source": [
    "df.info()"
   ]
  },
  {
   "cell_type": "code",
   "execution_count": 10,
   "metadata": {},
   "outputs": [
    {
     "data": {
      "text/html": [
       "<div>\n",
       "<style scoped>\n",
       "    .dataframe tbody tr th:only-of-type {\n",
       "        vertical-align: middle;\n",
       "    }\n",
       "\n",
       "    .dataframe tbody tr th {\n",
       "        vertical-align: top;\n",
       "    }\n",
       "\n",
       "    .dataframe thead th {\n",
       "        text-align: right;\n",
       "    }\n",
       "</style>\n",
       "<table border=\"1\" class=\"dataframe\">\n",
       "  <thead>\n",
       "    <tr style=\"text-align: right;\">\n",
       "      <th></th>\n",
       "      <th>PrimaryItemID</th>\n",
       "      <th>PrimaryItemCode</th>\n",
       "      <th>Article</th>\n",
       "      <th>PrimaryItemName</th>\n",
       "      <th>Поставщик</th>\n",
       "      <th>Бренд</th>\n",
       "      <th>ManufacturerName</th>\n",
       "      <th>BrandName</th>\n",
       "      <th>SubBrandName</th>\n",
       "      <th>SegmentName</th>\n",
       "      <th>CategoryName</th>\n",
       "      <th>SubCategoryName</th>\n",
       "      <th>ProductTypeName</th>\n",
       "      <th>AgeSegmentName</th>\n",
       "      <th>Weight</th>\n",
       "      <th>Volume</th>\n",
       "      <th>Quantity</th>\n",
       "    </tr>\n",
       "  </thead>\n",
       "  <tbody>\n",
       "    <tr>\n",
       "      <th>0</th>\n",
       "      <td>394690.0</td>\n",
       "      <td>13879</td>\n",
       "      <td>NaN</td>\n",
       "      <td>З/П РОМАШКИН ЛУГ УГОЛЬ СЕРЕБРО 100МЛ</td>\n",
       "      <td>NaN</td>\n",
       "      <td>NaN</td>\n",
       "      <td>NaN</td>\n",
       "      <td>NaN</td>\n",
       "      <td>NaN</td>\n",
       "      <td>Oral care</td>\n",
       "      <td>Зубная паста</td>\n",
       "      <td>NaN</td>\n",
       "      <td>NaN</td>\n",
       "      <td>Для детей</td>\n",
       "      <td>NaN</td>\n",
       "      <td>NaN</td>\n",
       "      <td>NaN</td>\n",
       "    </tr>\n",
       "    <tr>\n",
       "      <th>1</th>\n",
       "      <td>394674.0</td>\n",
       "      <td>13862</td>\n",
       "      <td>NaN</td>\n",
       "      <td>З/П РОМАШКИН ЛУГ ЦЕЛЕБНЫЕ ТРАВЫ 100МЛ</td>\n",
       "      <td>NaN</td>\n",
       "      <td>NaN</td>\n",
       "      <td>NaN</td>\n",
       "      <td>NaN</td>\n",
       "      <td>NaN</td>\n",
       "      <td>Oral care</td>\n",
       "      <td>Зубная паста</td>\n",
       "      <td>NaN</td>\n",
       "      <td>NaN</td>\n",
       "      <td>Для детей</td>\n",
       "      <td>NaN</td>\n",
       "      <td>NaN</td>\n",
       "      <td>NaN</td>\n",
       "    </tr>\n",
       "    <tr>\n",
       "      <th>2</th>\n",
       "      <td>399746.0</td>\n",
       "      <td>13869</td>\n",
       "      <td>NaN</td>\n",
       "      <td>З/Щ SILCAMED СРЕД ТРОЙНОЕ ДЕЙСТВИЕ</td>\n",
       "      <td>NaN</td>\n",
       "      <td>NaN</td>\n",
       "      <td>DENTAL KOSMETIK</td>\n",
       "      <td>SILCAMED</td>\n",
       "      <td>NaN</td>\n",
       "      <td>Oral care</td>\n",
       "      <td>Зубные щетки</td>\n",
       "      <td>Мануальные</td>\n",
       "      <td>NaN</td>\n",
       "      <td>NaN</td>\n",
       "      <td>NaN</td>\n",
       "      <td>NaN</td>\n",
       "      <td>NaN</td>\n",
       "    </tr>\n",
       "    <tr>\n",
       "      <th>3</th>\n",
       "      <td>399997.0</td>\n",
       "      <td>14417</td>\n",
       "      <td>NaN</td>\n",
       "      <td>БОС ЖИДКИЙ1200МЛ.ОТБ ЖМС</td>\n",
       "      <td>NaN</td>\n",
       "      <td>NaN</td>\n",
       "      <td>AIST/SPB</td>\n",
       "      <td>NaN</td>\n",
       "      <td>NaN</td>\n",
       "      <td>Home care</td>\n",
       "      <td>LAUNDRY</td>\n",
       "      <td>NaN</td>\n",
       "      <td>NaN</td>\n",
       "      <td>NaN</td>\n",
       "      <td>NaN</td>\n",
       "      <td>NaN</td>\n",
       "      <td>NaN</td>\n",
       "    </tr>\n",
       "    <tr>\n",
       "      <th>4</th>\n",
       "      <td>383853.0</td>\n",
       "      <td>7765</td>\n",
       "      <td>NaN</td>\n",
       "      <td>&amp;.АМП.Бумага для выпечки 6м</td>\n",
       "      <td>NaN</td>\n",
       "      <td>NaN</td>\n",
       "      <td>NaN</td>\n",
       "      <td>NaN</td>\n",
       "      <td>NaN</td>\n",
       "      <td>Home care</td>\n",
       "      <td>OTHERS</td>\n",
       "      <td>NaN</td>\n",
       "      <td>NaN</td>\n",
       "      <td>NaN</td>\n",
       "      <td>NaN</td>\n",
       "      <td>NaN</td>\n",
       "      <td>NaN</td>\n",
       "    </tr>\n",
       "  </tbody>\n",
       "</table>\n",
       "</div>"
      ],
      "text/plain": [
       "   PrimaryItemID  PrimaryItemCode Article  \\\n",
       "0       394690.0            13879     NaN   \n",
       "1       394674.0            13862     NaN   \n",
       "2       399746.0            13869     NaN   \n",
       "3       399997.0            14417     NaN   \n",
       "4       383853.0             7765     NaN   \n",
       "\n",
       "                          PrimaryItemName Поставщик Бренд ManufacturerName  \\\n",
       "0    З/П РОМАШКИН ЛУГ УГОЛЬ СЕРЕБРО 100МЛ       NaN   NaN              NaN   \n",
       "1   З/П РОМАШКИН ЛУГ ЦЕЛЕБНЫЕ ТРАВЫ 100МЛ       NaN   NaN              NaN   \n",
       "2      З/Щ SILCAMED СРЕД ТРОЙНОЕ ДЕЙСТВИЕ       NaN   NaN  DENTAL KOSMETIK   \n",
       "3                БОС ЖИДКИЙ1200МЛ.ОТБ ЖМС       NaN   NaN         AIST/SPB   \n",
       "4             &.АМП.Бумага для выпечки 6м       NaN   NaN              NaN   \n",
       "\n",
       "  BrandName SubBrandName SegmentName  CategoryName SubCategoryName  \\\n",
       "0       NaN          NaN   Oral care  Зубная паста             NaN   \n",
       "1       NaN          NaN   Oral care  Зубная паста             NaN   \n",
       "2  SILCAMED          NaN   Oral care  Зубные щетки      Мануальные   \n",
       "3       NaN          NaN   Home care       LAUNDRY             NaN   \n",
       "4       NaN          NaN   Home care        OTHERS             NaN   \n",
       "\n",
       "   ProductTypeName AgeSegmentName  Weight  Volume  Quantity  \n",
       "0              NaN      Для детей     NaN     NaN       NaN  \n",
       "1              NaN      Для детей     NaN     NaN       NaN  \n",
       "2              NaN            NaN     NaN     NaN       NaN  \n",
       "3              NaN            NaN     NaN     NaN       NaN  \n",
       "4              NaN            NaN     NaN     NaN       NaN  "
      ]
     },
     "execution_count": 10,
     "metadata": {},
     "output_type": "execute_result"
    }
   ],
   "source": [
    "df.head()"
   ]
  },
  {
   "cell_type": "code",
   "execution_count": 6,
   "metadata": {},
   "outputs": [],
   "source": [
    "av = AnalyzeVariables(df)"
   ]
  },
  {
   "cell_type": "code",
   "execution_count": null,
   "metadata": {},
   "outputs": [
    {
     "data": {
      "image/png": "[encoded data removed]",
      "text/plain": [
       "<Figure size 3000x1000 with 1 Axes>"
      ]
     },
     "metadata": {},
     "output_type": "display_data"
    }
   ],
   "source": [
    "import pandas as pd\n",
    "import matplotlib.pyplot as plt\n",
    "import seaborn as sns\n",
    "\n",
    "plt.figure(figsize=(30, 10))  \n",
    "sns.heatmap(df.isnull(), cbar=False, cmap='viridis')\n",
    "plt.title('Тепловая карта пропущенных значений')\n",
    "plt.xlabel('Столбцы')\n",
    "plt.ylabel('Строки')\n",
    "plt.show()\n"
   ]
  },
  {
   "cell_type": "code",
   "execution_count": 69,
   "metadata": {},
   "outputs": [
    {
     "data": {
      "text/html": [
       "<div>\n",
       "<style scoped>\n",
       "    .dataframe tbody tr th:only-of-type {\n",
       "        vertical-align: middle;\n",
       "    }\n",
       "\n",
       "    .dataframe tbody tr th {\n",
       "        vertical-align: top;\n",
       "    }\n",
       "\n",
       "    .dataframe thead th {\n",
       "        text-align: right;\n",
       "    }\n",
       "</style>\n",
       "<table border=\"1\" class=\"dataframe\">\n",
       "  <thead>\n",
       "    <tr style=\"text-align: right;\">\n",
       "      <th></th>\n",
       "      <th>PrimaryItemName</th>\n",
       "      <th>Поставщик</th>\n",
       "      <th>Бренд</th>\n",
       "      <th>ManufacturerName</th>\n",
       "      <th>BrandName</th>\n",
       "      <th>SubBrandName</th>\n",
       "      <th>SegmentName</th>\n",
       "      <th>CategoryName</th>\n",
       "      <th>SubCategoryName</th>\n",
       "      <th>AgeSegmentName</th>\n",
       "      <th>Weight</th>\n",
       "      <th>Volume</th>\n",
       "      <th>Quantity</th>\n",
       "    </tr>\n",
       "  </thead>\n",
       "  <tbody>\n",
       "    <tr>\n",
       "      <th>0</th>\n",
       "      <td>З/П РОМАШКИН ЛУГ УГОЛЬ СЕРЕБРО 100МЛ</td>\n",
       "      <td>NaN</td>\n",
       "      <td>NaN</td>\n",
       "      <td>NaN</td>\n",
       "      <td>NaN</td>\n",
       "      <td>NaN</td>\n",
       "      <td>Oral care</td>\n",
       "      <td>Зубная паста</td>\n",
       "      <td>NaN</td>\n",
       "      <td>Для детей</td>\n",
       "      <td>NaN</td>\n",
       "      <td>NaN</td>\n",
       "      <td>NaN</td>\n",
       "    </tr>\n",
       "    <tr>\n",
       "      <th>1</th>\n",
       "      <td>З/П РОМАШКИН ЛУГ ЦЕЛЕБНЫЕ ТРАВЫ 100МЛ</td>\n",
       "      <td>NaN</td>\n",
       "      <td>NaN</td>\n",
       "      <td>NaN</td>\n",
       "      <td>NaN</td>\n",
       "      <td>NaN</td>\n",
       "      <td>Oral care</td>\n",
       "      <td>Зубная паста</td>\n",
       "      <td>NaN</td>\n",
       "      <td>Для детей</td>\n",
       "      <td>NaN</td>\n",
       "      <td>NaN</td>\n",
       "      <td>NaN</td>\n",
       "    </tr>\n",
       "    <tr>\n",
       "      <th>2</th>\n",
       "      <td>З/Щ SILCAMED СРЕД ТРОЙНОЕ ДЕЙСТВИЕ</td>\n",
       "      <td>NaN</td>\n",
       "      <td>NaN</td>\n",
       "      <td>DENTAL KOSMETIK</td>\n",
       "      <td>SILCAMED</td>\n",
       "      <td>NaN</td>\n",
       "      <td>Oral care</td>\n",
       "      <td>Зубные щетки</td>\n",
       "      <td>Мануальные</td>\n",
       "      <td>NaN</td>\n",
       "      <td>NaN</td>\n",
       "      <td>NaN</td>\n",
       "      <td>NaN</td>\n",
       "    </tr>\n",
       "    <tr>\n",
       "      <th>3</th>\n",
       "      <td>БОС ЖИДКИЙ1200МЛ.ОТБ ЖМС</td>\n",
       "      <td>NaN</td>\n",
       "      <td>NaN</td>\n",
       "      <td>AIST/SPB</td>\n",
       "      <td>NaN</td>\n",
       "      <td>NaN</td>\n",
       "      <td>Home care</td>\n",
       "      <td>LAUNDRY</td>\n",
       "      <td>NaN</td>\n",
       "      <td>NaN</td>\n",
       "      <td>NaN</td>\n",
       "      <td>NaN</td>\n",
       "      <td>NaN</td>\n",
       "    </tr>\n",
       "    <tr>\n",
       "      <th>4</th>\n",
       "      <td>&amp;.АМП.Бумага для выпечки 6м</td>\n",
       "      <td>NaN</td>\n",
       "      <td>NaN</td>\n",
       "      <td>NaN</td>\n",
       "      <td>NaN</td>\n",
       "      <td>NaN</td>\n",
       "      <td>Home care</td>\n",
       "      <td>OTHERS</td>\n",
       "      <td>NaN</td>\n",
       "      <td>NaN</td>\n",
       "      <td>NaN</td>\n",
       "      <td>NaN</td>\n",
       "      <td>NaN</td>\n",
       "    </tr>\n",
       "  </tbody>\n",
       "</table>\n",
       "</div>"
      ],
      "text/plain": [
       "                          PrimaryItemName Поставщик Бренд ManufacturerName  \\\n",
       "0    З/П РОМАШКИН ЛУГ УГОЛЬ СЕРЕБРО 100МЛ       NaN   NaN              NaN   \n",
       "1   З/П РОМАШКИН ЛУГ ЦЕЛЕБНЫЕ ТРАВЫ 100МЛ       NaN   NaN              NaN   \n",
       "2      З/Щ SILCAMED СРЕД ТРОЙНОЕ ДЕЙСТВИЕ       NaN   NaN  DENTAL KOSMETIK   \n",
       "3                БОС ЖИДКИЙ1200МЛ.ОТБ ЖМС       NaN   NaN         AIST/SPB   \n",
       "4             &.АМП.Бумага для выпечки 6м       NaN   NaN              NaN   \n",
       "\n",
       "  BrandName SubBrandName SegmentName  CategoryName SubCategoryName  \\\n",
       "0       NaN          NaN   Oral care  Зубная паста             NaN   \n",
       "1       NaN          NaN   Oral care  Зубная паста             NaN   \n",
       "2  SILCAMED          NaN   Oral care  Зубные щетки      Мануальные   \n",
       "3       NaN          NaN   Home care       LAUNDRY             NaN   \n",
       "4       NaN          NaN   Home care        OTHERS             NaN   \n",
       "\n",
       "  AgeSegmentName Weight Volume Quantity  \n",
       "0      Для детей    NaN    NaN      NaN  \n",
       "1      Для детей    NaN    NaN      NaN  \n",
       "2            NaN    NaN    NaN      NaN  \n",
       "3            NaN    NaN    NaN      NaN  \n",
       "4            NaN    NaN    NaN      NaN  "
      ]
     },
     "execution_count": 69,
     "metadata": {},
     "output_type": "execute_result"
    }
   ],
   "source": [
    "df = df.drop(['PrimaryItemID','PrimaryItemCode','Article','ProductTypeName'],axis=1)\n",
    "for column in df.columns:\n",
    "    df[column] = df[column].astype('object')\n",
    "df.head()"
   ]
  },
  {
   "cell_type": "code",
   "execution_count": 70,
   "metadata": {},
   "outputs": [
    {
     "data": {
      "text/html": [
       "<div>\n",
       "<style scoped>\n",
       "    .dataframe tbody tr th:only-of-type {\n",
       "        vertical-align: middle;\n",
       "    }\n",
       "\n",
       "    .dataframe tbody tr th {\n",
       "        vertical-align: top;\n",
       "    }\n",
       "\n",
       "    .dataframe thead th {\n",
       "        text-align: right;\n",
       "    }\n",
       "</style>\n",
       "<table border=\"1\" class=\"dataframe\">\n",
       "  <thead>\n",
       "    <tr style=\"text-align: right;\">\n",
       "      <th></th>\n",
       "      <th>SegmentName</th>\n",
       "      <th>Weight</th>\n",
       "      <th>Volume</th>\n",
       "      <th>Quantity</th>\n",
       "      <th>combined_text</th>\n",
       "    </tr>\n",
       "  </thead>\n",
       "  <tbody>\n",
       "    <tr>\n",
       "      <th>0</th>\n",
       "      <td>Oral care</td>\n",
       "      <td>NaN</td>\n",
       "      <td>NaN</td>\n",
       "      <td>NaN</td>\n",
       "      <td>З/П РОМАШКИН ЛУГ УГОЛЬ СЕРЕБРО 100МЛ, , , , ,...</td>\n",
       "    </tr>\n",
       "    <tr>\n",
       "      <th>1</th>\n",
       "      <td>Oral care</td>\n",
       "      <td>NaN</td>\n",
       "      <td>NaN</td>\n",
       "      <td>NaN</td>\n",
       "      <td>З/П РОМАШКИН ЛУГ ЦЕЛЕБНЫЕ ТРАВЫ 100МЛ, , , , ...</td>\n",
       "    </tr>\n",
       "    <tr>\n",
       "      <th>2</th>\n",
       "      <td>Oral care</td>\n",
       "      <td>NaN</td>\n",
       "      <td>NaN</td>\n",
       "      <td>NaN</td>\n",
       "      <td>З/Щ SILCAMED СРЕД ТРОЙНОЕ ДЕЙСТВИЕ, , , DENTA...</td>\n",
       "    </tr>\n",
       "    <tr>\n",
       "      <th>3</th>\n",
       "      <td>Home care</td>\n",
       "      <td>NaN</td>\n",
       "      <td>NaN</td>\n",
       "      <td>NaN</td>\n",
       "      <td>БОС ЖИДКИЙ1200МЛ.ОТБ ЖМС, , , AIST/SPB, , , LA...</td>\n",
       "    </tr>\n",
       "    <tr>\n",
       "      <th>4</th>\n",
       "      <td>Home care</td>\n",
       "      <td>NaN</td>\n",
       "      <td>NaN</td>\n",
       "      <td>NaN</td>\n",
       "      <td>&amp;.АМП.Бумага для выпечки 6м, , , , , , OTHERS, ,</td>\n",
       "    </tr>\n",
       "  </tbody>\n",
       "</table>\n",
       "</div>"
      ],
      "text/plain": [
       "  SegmentName Weight Volume Quantity  \\\n",
       "0   Oral care    NaN    NaN      NaN   \n",
       "1   Oral care    NaN    NaN      NaN   \n",
       "2   Oral care    NaN    NaN      NaN   \n",
       "3   Home care    NaN    NaN      NaN   \n",
       "4   Home care    NaN    NaN      NaN   \n",
       "\n",
       "                                       combined_text  \n",
       "0   З/П РОМАШКИН ЛУГ УГОЛЬ СЕРЕБРО 100МЛ, , , , ,...  \n",
       "1   З/П РОМАШКИН ЛУГ ЦЕЛЕБНЫЕ ТРАВЫ 100МЛ, , , , ...  \n",
       "2   З/Щ SILCAMED СРЕД ТРОЙНОЕ ДЕЙСТВИЕ, , , DENTA...  \n",
       "3  БОС ЖИДКИЙ1200МЛ.ОТБ ЖМС, , , AIST/SPB, , , LA...  \n",
       "4  &.АМП.Бумага для выпечки 6м, , , , , , OTHERS, ,   "
      ]
     },
     "execution_count": 70,
     "metadata": {},
     "output_type": "execute_result"
    }
   ],
   "source": [
    "columns_to_combne = df.drop(['SegmentName','Volume','Weight','Quantity'],axis=1).columns\n",
    "df['combined_text'] = df[columns_to_combne].fillna('').agg(', '.join, axis=1)\n",
    "df = df.drop(columns_to_combne,axis=1)\n",
    "df.head()"
   ]
  },
  {
   "cell_type": "code",
   "execution_count": 72,
   "metadata": {},
   "outputs": [],
   "source": [
    "df = df.drop(['Weight','Volume','Quantity'],axis=1)"
   ]
  },
  {
   "cell_type": "code",
   "execution_count": 73,
   "metadata": {},
   "outputs": [
    {
     "data": {
      "text/html": [
       "<div>\n",
       "<style scoped>\n",
       "    .dataframe tbody tr th:only-of-type {\n",
       "        vertical-align: middle;\n",
       "    }\n",
       "\n",
       "    .dataframe tbody tr th {\n",
       "        vertical-align: top;\n",
       "    }\n",
       "\n",
       "    .dataframe thead th {\n",
       "        text-align: right;\n",
       "    }\n",
       "</style>\n",
       "<table border=\"1\" class=\"dataframe\">\n",
       "  <thead>\n",
       "    <tr style=\"text-align: right;\">\n",
       "      <th></th>\n",
       "      <th>SegmentName</th>\n",
       "      <th>combined_text</th>\n",
       "    </tr>\n",
       "  </thead>\n",
       "  <tbody>\n",
       "    <tr>\n",
       "      <th>0</th>\n",
       "      <td>Oral care</td>\n",
       "      <td>З/П РОМАШКИН ЛУГ УГОЛЬ СЕРЕБРО 100МЛ, , , , ,...</td>\n",
       "    </tr>\n",
       "    <tr>\n",
       "      <th>1</th>\n",
       "      <td>Oral care</td>\n",
       "      <td>З/П РОМАШКИН ЛУГ ЦЕЛЕБНЫЕ ТРАВЫ 100МЛ, , , , ...</td>\n",
       "    </tr>\n",
       "    <tr>\n",
       "      <th>2</th>\n",
       "      <td>Oral care</td>\n",
       "      <td>З/Щ SILCAMED СРЕД ТРОЙНОЕ ДЕЙСТВИЕ, , , DENTA...</td>\n",
       "    </tr>\n",
       "    <tr>\n",
       "      <th>3</th>\n",
       "      <td>Home care</td>\n",
       "      <td>БОС ЖИДКИЙ1200МЛ.ОТБ ЖМС, , , AIST/SPB, , , LA...</td>\n",
       "    </tr>\n",
       "    <tr>\n",
       "      <th>4</th>\n",
       "      <td>Home care</td>\n",
       "      <td>&amp;.АМП.Бумага для выпечки 6м, , , , , , OTHERS, ,</td>\n",
       "    </tr>\n",
       "  </tbody>\n",
       "</table>\n",
       "</div>"
      ],
      "text/plain": [
       "  SegmentName                                      combined_text\n",
       "0   Oral care   З/П РОМАШКИН ЛУГ УГОЛЬ СЕРЕБРО 100МЛ, , , , ,...\n",
       "1   Oral care   З/П РОМАШКИН ЛУГ ЦЕЛЕБНЫЕ ТРАВЫ 100МЛ, , , , ...\n",
       "2   Oral care   З/Щ SILCAMED СРЕД ТРОЙНОЕ ДЕЙСТВИЕ, , , DENTA...\n",
       "3   Home care  БОС ЖИДКИЙ1200МЛ.ОТБ ЖМС, , , AIST/SPB, , , LA...\n",
       "4   Home care  &.АМП.Бумага для выпечки 6м, , , , , , OTHERS, , "
      ]
     },
     "execution_count": 73,
     "metadata": {},
     "output_type": "execute_result"
    }
   ],
   "source": [
    "df.head()"
   ]
  },
  {
   "cell_type": "code",
   "execution_count": 74,
   "metadata": {},
   "outputs": [
    {
     "name": "stderr",
     "output_type": "stream",
     "text": [
      "c:\\Users\\Dmitriy.Burnashev\\AppData\\Local\\anaconda3\\Lib\\site-packages\\transformers\\tokenization_utils_base.py:1601: FutureWarning: `clean_up_tokenization_spaces` was not set. It will be set to `True` by default. This behavior will be depracted in transformers v4.45, and will be then set to `False` by default. For more details check this issue: https://github.com/huggingface/transformers/issues/31884\n",
      "  warnings.warn(\n"
     ]
    }
   ],
   "source": [
    "from transformers import DistilBertTokenizer, DistilBertModel\n",
    "import torch\n",
    "import pandas as pd\n",
    "\n",
    "from transformers import BertTokenizer, BertModel\n",
    "\n",
    "model_name = \"bert-base-multilingual-cased\"\n",
    "tokenizer = BertTokenizer.from_pretrained(model_name)\n",
    "model = BertModel.from_pretrained(model_name)"
   ]
  },
  {
   "cell_type": "code",
   "execution_count": 75,
   "metadata": {},
   "outputs": [],
   "source": [
    "from tqdm import tqdm\n",
    "\n",
    "def get_embeddings(texts, batch_size):\n",
    "    embeddings_list = []\n",
    "    model.eval()  \n",
    "    for i in tqdm(range(0, len(texts), batch_size), desc=\"Processing batches\"):\n",
    "        batch_texts = texts[i:i+batch_size]\n",
    "        inputs = tokenizer(batch_texts, padding=True, truncation=True, return_tensors=\"pt\")\n",
    "        \n",
    "        inputs = {key: value.to(model.device) for key, value in inputs.items()}\n",
    "        \n",
    "        with torch.no_grad():\n",
    "            outputs = model(**inputs)\n",
    "\n",
    "            batch_embeddings = outputs.last_hidden_state.mean(dim=1)\n",
    "            embeddings_list.extend(batch_embeddings.cpu().numpy().tolist())\n",
    "    \n",
    "    return embeddings_list\n"
   ]
  },
  {
   "cell_type": "code",
   "execution_count": null,
   "metadata": {},
   "outputs": [],
   "source": [
    "#descriptions = df['combined_text'].tolist()\n",
    "#embeddings = get_embeddings(descriptions, 2048)"
   ]
  },
  {
   "cell_type": "code",
   "execution_count": 78,
   "metadata": {},
   "outputs": [],
   "source": [
    "splat_embeddings = np.load(\"splat_embeddings.npy\")"
   ]
  },
  {
   "cell_type": "code",
   "execution_count": 79,
   "metadata": {},
   "outputs": [],
   "source": [
    "col = [f'{i+1}_feature' for i in range(splat_embeddings.shape[1])]\n",
    "\n",
    "df_body = pd.DataFrame(splat_embeddings, columns=col)\n",
    "\n",
    "df = pd.concat([df, df_body], axis=1)"
   ]
  },
  {
   "cell_type": "code",
   "execution_count": 81,
   "metadata": {},
   "outputs": [],
   "source": [
    "df = df.drop('combined_text',axis=1)"
   ]
  },
  {
   "cell_type": "code",
   "execution_count": 87,
   "metadata": {},
   "outputs": [],
   "source": [
    "df = df[~df['SegmentName'].isna()]"
   ]
  },
  {
   "cell_type": "code",
   "execution_count": 88,
   "metadata": {},
   "outputs": [
    {
     "name": "stdout",
     "output_type": "stream",
     "text": [
      "Series([], dtype: int64)\n",
      "\n",
      "В колонке(ах) ['SegmentName'] нет пропущенных значений\n",
      "В наборе данных нет пропущенных значений\n",
      "-------------------------------------------\n",
      "Информация о колонках в датасете\n",
      "\n",
      "Категориальные колонки:\n",
      "Index([], dtype='object')\n",
      "\n",
      "Числовые колонки:\n",
      "Index(['1_feature', '2_feature', '3_feature', '4_feature', '5_feature',\n",
      "       '6_feature', '7_feature', '8_feature', '9_feature', '10_feature',\n",
      "       ...\n",
      "       '759_feature', '760_feature', '761_feature', '762_feature',\n",
      "       '763_feature', '764_feature', '765_feature', '766_feature',\n",
      "       '767_feature', '768_feature'],\n",
      "      dtype='object', length=768)\n"
     ]
    }
   ],
   "source": [
    "bdf = BaseDatasetTransform(df,target='SegmentName')\n",
    "X_train, X_test, y_train, y_test,categorical_features = bdf.fit_transform()"
   ]
  },
  {
   "cell_type": "code",
   "execution_count": 89,
   "metadata": {},
   "outputs": [
    {
     "name": "stdout",
     "output_type": "stream",
     "text": [
      "1\n"
     ]
    }
   ],
   "source": [
    "lgbm_model = lgb.LGBMClassifier(verbose=-1)\n",
    "\n",
    "columns_to_delete = []  \n",
    "\n",
    "unique_classes = len(set(y_train))\n",
    "print(unique_classes)\n",
    "\n",
    "model_train = BaseModelTrain(\n",
    "    model=lgbm_model,\n",
    "    columns_to_delete=columns_to_delete,\n",
    "    categorical_features=categorical_features,\n",
    "    boosting_type='gbdt',\n",
    "    objective='multiclass',  \n",
    "    num_class=unique_classes, \n",
    "    metric='multi_error' \n",
    ")"
   ]
  },
  {
   "cell_type": "code",
   "execution_count": 90,
   "metadata": {},
   "outputs": [
    {
     "name": "stderr",
     "output_type": "stream",
     "text": [
      "c:\\Users\\Dmitriy.Burnashev\\AppData\\Local\\anaconda3\\Lib\\site-packages\\sklearn\\preprocessing\\_label.py:97: DataConversionWarning: A column-vector y was passed when a 1d array was expected. Please change the shape of y to (n_samples, ), for example using ravel().\n",
      "  y = column_or_1d(y, warn=True)\n",
      "c:\\Users\\Dmitriy.Burnashev\\AppData\\Local\\anaconda3\\Lib\\site-packages\\sklearn\\preprocessing\\_label.py:132: DataConversionWarning: A column-vector y was passed when a 1d array was expected. Please change the shape of y to (n_samples, ), for example using ravel().\n",
      "  y = column_or_1d(y, dtype=self.classes_.dtype, warn=True)\n"
     ]
    },
    {
     "data": {
      "text/html": [
       "<style>#sk-container-id-1 {color: black;}#sk-container-id-1 pre{padding: 0;}#sk-container-id-1 div.sk-toggleable {background-color: white;}#sk-container-id-1 label.sk-toggleable__label {cursor: pointer;display: block;width: 100%;margin-bottom: 0;padding: 0.3em;box-sizing: border-box;text-align: center;}#sk-container-id-1 label.sk-toggleable__label-arrow:before {content: \"▸\";float: left;margin-right: 0.25em;color: #696969;}#sk-container-id-1 label.sk-toggleable__label-arrow:hover:before {color: black;}#sk-container-id-1 div.sk-estimator:hover label.sk-toggleable__label-arrow:before {color: black;}#sk-container-id-1 div.sk-toggleable__content {max-height: 0;max-width: 0;overflow: hidden;text-align: left;background-color: #f0f8ff;}#sk-container-id-1 div.sk-toggleable__content pre {margin: 0.2em;color: black;border-radius: 0.25em;background-color: #f0f8ff;}#sk-container-id-1 input.sk-toggleable__control:checked~div.sk-toggleable__content {max-height: 200px;max-width: 100%;overflow: auto;}#sk-container-id-1 input.sk-toggleable__control:checked~label.sk-toggleable__label-arrow:before {content: \"▾\";}#sk-container-id-1 div.sk-estimator input.sk-toggleable__control:checked~label.sk-toggleable__label {background-color: #d4ebff;}#sk-container-id-1 div.sk-label input.sk-toggleable__control:checked~label.sk-toggleable__label {background-color: #d4ebff;}#sk-container-id-1 input.sk-hidden--visually {border: 0;clip: rect(1px 1px 1px 1px);clip: rect(1px, 1px, 1px, 1px);height: 1px;margin: -1px;overflow: hidden;padding: 0;position: absolute;width: 1px;}#sk-container-id-1 div.sk-estimator {font-family: monospace;background-color: #f0f8ff;border: 1px dotted black;border-radius: 0.25em;box-sizing: border-box;margin-bottom: 0.5em;}#sk-container-id-1 div.sk-estimator:hover {background-color: #d4ebff;}#sk-container-id-1 div.sk-parallel-item::after {content: \"\";width: 100%;border-bottom: 1px solid gray;flex-grow: 1;}#sk-container-id-1 div.sk-label:hover label.sk-toggleable__label {background-color: #d4ebff;}#sk-container-id-1 div.sk-serial::before {content: \"\";position: absolute;border-left: 1px solid gray;box-sizing: border-box;top: 0;bottom: 0;left: 50%;z-index: 0;}#sk-container-id-1 div.sk-serial {display: flex;flex-direction: column;align-items: center;background-color: white;padding-right: 0.2em;padding-left: 0.2em;position: relative;}#sk-container-id-1 div.sk-item {position: relative;z-index: 1;}#sk-container-id-1 div.sk-parallel {display: flex;align-items: stretch;justify-content: center;background-color: white;position: relative;}#sk-container-id-1 div.sk-item::before, #sk-container-id-1 div.sk-parallel-item::before {content: \"\";position: absolute;border-left: 1px solid gray;box-sizing: border-box;top: 0;bottom: 0;left: 50%;z-index: -1;}#sk-container-id-1 div.sk-parallel-item {display: flex;flex-direction: column;z-index: 1;position: relative;background-color: white;}#sk-container-id-1 div.sk-parallel-item:first-child::after {align-self: flex-end;width: 50%;}#sk-container-id-1 div.sk-parallel-item:last-child::after {align-self: flex-start;width: 50%;}#sk-container-id-1 div.sk-parallel-item:only-child::after {width: 0;}#sk-container-id-1 div.sk-dashed-wrapped {border: 1px dashed gray;margin: 0 0.4em 0.5em 0.4em;box-sizing: border-box;padding-bottom: 0.4em;background-color: white;}#sk-container-id-1 div.sk-label label {font-family: monospace;font-weight: bold;display: inline-block;line-height: 1.2em;}#sk-container-id-1 div.sk-label-container {text-align: center;}#sk-container-id-1 div.sk-container {/* jupyter's `normalize.less` sets `[hidden] { display: none; }` but bootstrap.min.css set `[hidden] { display: none !important; }` so we also need the `!important` here to be able to override the default hidden behavior on the sphinx rendered scikit-learn.org. See: https://github.com/scikit-learn/scikit-learn/issues/21755 */display: inline-block !important;position: relative;}#sk-container-id-1 div.sk-text-repr-fallback {display: none;}</style><div id=\"sk-container-id-1\" class=\"sk-top-container\"><div class=\"sk-text-repr-fallback\"><pre>ModelEvaluator(metrics=[&#x27;accuracy&#x27;, &#x27;precision&#x27;, &#x27;recall&#x27;, &#x27;f1_macro&#x27;],\n",
       "               model_trainer=BaseModelTrain(categorical_features=[],\n",
       "                                            columns_to_delete=[],\n",
       "                                            model=LGBMClassifier(metric=&#x27;multi_error&#x27;,\n",
       "                                                                 num_class=1,\n",
       "                                                                 objective=&#x27;multiclass&#x27;,\n",
       "                                                                 verbose=-1)))</pre><b>In a Jupyter environment, please rerun this cell to show the HTML representation or trust the notebook. <br />On GitHub, the HTML representation is unable to render, please try loading this page with nbviewer.org.</b></div><div class=\"sk-container\" hidden><div class=\"sk-item sk-dashed-wrapped\"><div class=\"sk-label-container\"><div class=\"sk-label sk-toggleable\"><input class=\"sk-toggleable__control sk-hidden--visually\" id=\"sk-estimator-id-1\" type=\"checkbox\" ><label for=\"sk-estimator-id-1\" class=\"sk-toggleable__label sk-toggleable__label-arrow\">ModelEvaluator</label><div class=\"sk-toggleable__content\"><pre>ModelEvaluator(metrics=[&#x27;accuracy&#x27;, &#x27;precision&#x27;, &#x27;recall&#x27;, &#x27;f1_macro&#x27;],\n",
       "               model_trainer=BaseModelTrain(categorical_features=[],\n",
       "                                            columns_to_delete=[],\n",
       "                                            model=LGBMClassifier(metric=&#x27;multi_error&#x27;,\n",
       "                                                                 num_class=1,\n",
       "                                                                 objective=&#x27;multiclass&#x27;,\n",
       "                                                                 verbose=-1)))</pre></div></div></div><div class=\"sk-parallel\"><div class=\"sk-parallel-item\"><div class=\"sk-item\"><div class=\"sk-label-container\"><div class=\"sk-label sk-toggleable\"><input class=\"sk-toggleable__control sk-hidden--visually\" id=\"sk-estimator-id-2\" type=\"checkbox\" ><label for=\"sk-estimator-id-2\" class=\"sk-toggleable__label sk-toggleable__label-arrow\">model_trainer: BaseModelTrain</label><div class=\"sk-toggleable__content\"><pre>BaseModelTrain(categorical_features=[], columns_to_delete=[],\n",
       "               model=LGBMClassifier(metric=&#x27;multi_error&#x27;, num_class=1,\n",
       "                                    objective=&#x27;multiclass&#x27;, verbose=-1))</pre></div></div></div><div class=\"sk-serial\"><div class=\"sk-item sk-dashed-wrapped\"><div class=\"sk-parallel\"><div class=\"sk-parallel-item\"><div class=\"sk-item\"><div class=\"sk-label-container\"><div class=\"sk-label sk-toggleable\"><input class=\"sk-toggleable__control sk-hidden--visually\" id=\"sk-estimator-id-3\" type=\"checkbox\" ><label for=\"sk-estimator-id-3\" class=\"sk-toggleable__label sk-toggleable__label-arrow\">model: LGBMClassifier</label><div class=\"sk-toggleable__content\"><pre>LGBMClassifier(metric=&#x27;multi_error&#x27;, num_class=1, objective=&#x27;multiclass&#x27;,\n",
       "               verbose=-1)</pre></div></div></div><div class=\"sk-serial\"><div class=\"sk-item\"><div class=\"sk-estimator sk-toggleable\"><input class=\"sk-toggleable__control sk-hidden--visually\" id=\"sk-estimator-id-4\" type=\"checkbox\" ><label for=\"sk-estimator-id-4\" class=\"sk-toggleable__label sk-toggleable__label-arrow\">LGBMClassifier</label><div class=\"sk-toggleable__content\"><pre>LGBMClassifier(metric=&#x27;multi_error&#x27;, num_class=1, objective=&#x27;multiclass&#x27;,\n",
       "               verbose=-1)</pre></div></div></div></div></div></div></div></div></div></div></div></div></div></div></div>"
      ],
      "text/plain": [
       "ModelEvaluator(metrics=['accuracy', 'precision', 'recall', 'f1_macro'],\n",
       "               model_trainer=BaseModelTrain(categorical_features=[],\n",
       "                                            columns_to_delete=[],\n",
       "                                            model=LGBMClassifier(metric='multi_error',\n",
       "                                                                 num_class=1,\n",
       "                                                                 objective='multiclass',\n",
       "                                                                 verbose=-1)))"
      ]
     },
     "execution_count": 90,
     "metadata": {},
     "output_type": "execute_result"
    }
   ],
   "source": [
    "metrics = ['accuracy', 'precision', 'recall', 'f1_macro']\n",
    "evaluator = ModelEvaluator(model_trainer=model_train, metrics=metrics)\n",
    "\n",
    "evaluator.fit(X_train, y_train)"
   ]
  },
  {
   "cell_type": "code",
   "execution_count": 91,
   "metadata": {},
   "outputs": [
    {
     "data": {
      "text/html": [
       "<div>\n",
       "<style scoped>\n",
       "    .dataframe tbody tr th:only-of-type {\n",
       "        vertical-align: middle;\n",
       "    }\n",
       "\n",
       "    .dataframe tbody tr th {\n",
       "        vertical-align: top;\n",
       "    }\n",
       "\n",
       "    .dataframe thead th {\n",
       "        text-align: right;\n",
       "    }\n",
       "</style>\n",
       "<table border=\"1\" class=\"dataframe\">\n",
       "  <thead>\n",
       "    <tr style=\"text-align: right;\">\n",
       "      <th></th>\n",
       "      <th>Metric</th>\n",
       "      <th>Score</th>\n",
       "    </tr>\n",
       "  </thead>\n",
       "  <tbody>\n",
       "    <tr>\n",
       "      <th>0</th>\n",
       "      <td>accuracy</td>\n",
       "      <td>0.914427</td>\n",
       "    </tr>\n",
       "    <tr>\n",
       "      <th>1</th>\n",
       "      <td>precision</td>\n",
       "      <td>0.913345</td>\n",
       "    </tr>\n",
       "    <tr>\n",
       "      <th>2</th>\n",
       "      <td>recall</td>\n",
       "      <td>0.786639</td>\n",
       "    </tr>\n",
       "    <tr>\n",
       "      <th>3</th>\n",
       "      <td>f1</td>\n",
       "      <td>0.825841</td>\n",
       "    </tr>\n",
       "  </tbody>\n",
       "</table>\n",
       "</div>"
      ],
      "text/plain": [
       "      Metric     Score\n",
       "0   accuracy  0.914427\n",
       "1  precision  0.913345\n",
       "2     recall  0.786639\n",
       "3         f1  0.825841"
      ]
     },
     "execution_count": 91,
     "metadata": {},
     "output_type": "execute_result"
    }
   ],
   "source": [
    "evaluator.evaluate_to_dataframe(X_test, y_test)"
   ]
  },
  {
   "cell_type": "code",
   "execution_count": null,
   "metadata": {},
   "outputs": [],
   "source": []
  }
 ],
 "metadata": {
  "kernelspec": {
   "display_name": "base",
   "language": "python",
   "name": "python3"
  },
  "language_info": {
   "codemirror_mode": {
    "name": "ipython",
    "version": 3
   },
   "file_extension": ".py",
   "mimetype": "text/x-python",
   "name": "python",
   "nbconvert_exporter": "python",
   "pygments_lexer": "ipython3",
   "version": "3.12.4"
  }
 },
 "nbformat": 4,
 "nbformat_minor": 2
}
